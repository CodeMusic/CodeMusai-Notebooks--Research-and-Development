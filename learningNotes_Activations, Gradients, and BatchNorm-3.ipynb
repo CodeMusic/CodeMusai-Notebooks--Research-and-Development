{
 "cells": [
  {
   "cell_type": "code",
   "execution_count": 236,
   "id": "929024da-94b6-4cad-945e-60b8456ac5b4",
   "metadata": {},
   "outputs": [
    {
     "name": "stdout",
     "output_type": "stream",
     "text": [
      "Dataset Sample:  ['a', 'painted', 'christmas', 'an', 'original', 'story', 'of', 'life,']\n",
      "Dataset Length 154361 words\n"
     ]
    }
   ],
   "source": [
    "import torch\n",
    "import torch.nn.functional as F\n",
    "import matplotlib.pyplot as plt #diagrams\n",
    "%matplotlib inline\n",
    "\n",
    "def loadDataset():\n",
    "    words = open('activeTrainingMaterial.txt', 'r').read().lower().split()\n",
    "    print('Dataset Sample: ', words[:8])\n",
    "    print(f'Dataset Length {len(words)} words')\n",
    "    return words\n",
    "\n",
    "words = loadDataset()"
   ]
  },
  {
   "cell_type": "code",
   "execution_count": 237,
   "id": "f44880ec-fcd6-4d56-bcb4-56808669ef2e",
   "metadata": {},
   "outputs": [
    {
     "name": "stdout",
     "output_type": "stream",
     "text": [
      "Configuring Network Hyperparameters...\n",
      "block_size << 3, n_embd << 10, n_hidden << 200batch_size << 32, trainingIterations=1000000\n"
     ]
    }
   ],
   "source": [
    "block_size = 3 #context for prediction\n",
    "n_embd = 10\n",
    "n_hidden = 200\n",
    "batch_size = 32\n",
    "trainingIterations = 100000\n",
    "\n",
    "def configure(theBlockSize, numberOfEmbeddings, numberOfHiddenLayers, theBatchSize, maxIterations):\n",
    "    global block_size, numNeurons, nembd, batch_size\n",
    "    print('Configuring Network Hyperparameters...')\n",
    "    block_size = theBlockSize\n",
    "    n_embd = numberOfEmbeddings\n",
    "    n_hidden = numberOfHiddenLayers\n",
    "    batch_size = theBatchSize \n",
    "    trainingIterations = maxIterations\n",
    "    outprint =(f'block_size << {theBlockSize}, n_embd << {numberOfEmbeddings}, n_hidden << {numberOfHiddenLayers}')\n",
    "    outprint += (f'batch_size << {theBatchSize}, trainingIterations={maxIterations}')\n",
    "    print(outprint)\n",
    "\n",
    "configure(theBlockSize=3, numberOfEmbeddings=10, numberOfHiddenLayers=200, theBatchSize=32, maxIterations=1000000)\n",
    "\n"
   ]
  },
  {
   "cell_type": "code",
   "execution_count": 239,
   "id": "0109774d-fb9c-43fa-9f19-d36edc4cc13a",
   "metadata": {},
   "outputs": [
    {
     "name": "stdout",
     "output_type": "stream",
     "text": [
      "Vocabulary:  ! \" # $ % & ' ( ) * , - . / 0 1 2 3 4 5 6 7 8 9 : ; ? [ ] _ a b c d e f g h i j k l m n o p q r s t u v w x y z ‘ ’ … ∫\n",
      "Vocabulary Size: 60\n"
     ]
    }
   ],
   "source": [
    "#build vocabulary\n",
    "chars = []\n",
    "vocab_size = 0\n",
    "stoi = {s:i+1 for i,s in enumerate(chars)}\n",
    "itos = {i:s for s,i in stoi.items()}\n",
    "\n",
    "def buildVocabulary():\n",
    "    global chars, vocab_size, stoi, itos, words\n",
    "    chars = sorted(list(set(''.join(words))))\n",
    "    stoi = {s:i+1 for i,s in enumerate(chars)}\n",
    "    spotIdx = stoi['.']\n",
    "    spotEndIdx = stoi['∫']\n",
    "    stoi['.'] = 0\n",
    "    stoi['∫'] = spotIdx\n",
    "    itos = {i:s for s,i in stoi.items()}\n",
    "    print('Vocabulary: ', ' '.join(itos.values()))\n",
    "    vocab_size = len(itos)\n",
    "    print('Vocabulary Size:', vocab_size)\n",
    "\n",
    "buildVocabulary()"
   ]
  },
  {
   "cell_type": "code",
   "execution_count": 550,
   "id": "7eb7cf2b-a3c6-441e-827b-a62fbf3fe195",
   "metadata": {},
   "outputs": [
    {
     "name": "stdout",
     "output_type": "stream",
     "text": [
      "torch.Size([781789, 3]) torch.Size([781789])\n",
      "torch.Size([98117, 3]) torch.Size([98117])\n",
      "torch.Size([98036, 3]) torch.Size([98036])\n"
     ]
    }
   ],
   "source": [
    "#build the dataset\n",
    "#block_size = 3  #context for prediction\n",
    "def buildDataset(words):\n",
    "    global block_size\n",
    "    X, Y = [], []\n",
    "    for w in words:\n",
    "        #print(w)\n",
    "        context = [0] * block_size\n",
    "        for ch in w + '.':\n",
    "            ix = stoi[ch]\n",
    "            X.append(context)\n",
    "            Y.append(ix)\n",
    "            #print(''.join(itos[i] for i in context), '---->', itos[ix])\n",
    "            context = context[1:] + [ix] #crop and append\n",
    "            \n",
    "    X = torch.tensor(X)\n",
    "    Y = torch.tensor(Y)\n",
    "    print(X.shape, Y.shape)\n",
    "    return X, Y\n",
    "\n",
    "import random\n",
    "random.seed(327)\n",
    "random.shuffle(words)\n",
    "n1 = int(0.8*len(words))\n",
    "n2 = int(0.9*len(words))\n",
    "\n",
    "Xtr, Ytr = buildDataset(words[:n1]) #80%\n",
    "Xdev, Ydev = buildDataset(words[n1:n2])#10%\n",
    "Xte, Yte = buildDataset(words[n2:])#10%\n",
    "\n"
   ]
  },
  {
   "cell_type": "code",
   "execution_count": 402,
   "id": "6ca7a44c-38da-4fa4-b064-54d200a5d889",
   "metadata": {},
   "outputs": [
    {
     "data": {
      "text/plain": [
       "30"
      ]
     },
     "execution_count": 402,
     "metadata": {},
     "output_type": "execute_result"
    }
   ],
   "source": [
    "fanin = n_embd * block_size\n",
    "fanin"
   ]
  },
  {
   "cell_type": "code",
   "execution_count": 519,
   "id": "c5036b69-6801-4214-a027-0b629d35bead",
   "metadata": {},
   "outputs": [
    {
     "name": "stdout",
     "output_type": "stream",
     "text": [
      "This model has 19260 parameters, this is 0.0000011% of gpt3.5\n"
     ]
    }
   ],
   "source": [
    "#MLP Revisited\n",
    "#n_embd = 10 #dimensionts of character embedding vectors\n",
    "#n_hidden = 200 #the number of neurons in the hidden lay of the MLP\n",
    "\n",
    "def init():\n",
    "    global vocab_size, block_size, n_embd, n_hidden\n",
    "    C = torch.randn(vocab_size, n_embd)\n",
    "    W1 = torch.randn(n_embd * block_size, n_hidden) * (5/3)/(fanin ** 0.5)   #at init we want values close to 0 but not, bias can be zero\n",
    "    #b1 = torch.randn(n_hidden) * 0.01                       #this will start us off with a better guess then fully random\n",
    "    W2 = torch.randn(n_hidden, vocab_size) * 0.01        \n",
    "    b2 = torch.randn(vocab_size) * 0                     \n",
    "\n",
    "    #BatchNorm Parameters\n",
    "    #----\n",
    "    bngain = torch.ones((1, n_hidden))\n",
    "    bnbias = torch.zeros((1, n_hidden))\n",
    "    bnmean_running = torch.zeros((1, n_hidden))\n",
    "    bnstd_running = torch.ones((1, n_hidden))\n",
    "    #----\n",
    "    \n",
    "    parameters = [C, W1, b1, W2, b2, bngain, bnbias]\n",
    "    for p in parameters:\n",
    "        p.requires_grad = True\n",
    "    \n",
    "    numParams = sum(p.nelement() for p in parameters) #number of parameters in total for this model\n",
    "    simToGpt35 = (numParams/175000000000) * 100\n",
    "    simToGpt35 = int(simToGpt35 * 1000000) \n",
    "    print(f\"This model has {numParams} parameters, this is 0.00000{simToGpt35}% of gpt3.5\")\n",
    "    return C, W1, W2, b2, bngain, bnbias, bnmean_running, bnstd_running\n",
    "\n",
    "C, W1, W2, b2, bngain, bnbias, bnmean_running, bnstd_running  = init() #b1\n",
    "parameters = [C, W1, W2, b2, bngain, bnbias] #b1\n"
   ]
  },
  {
   "cell_type": "code",
   "execution_count": 445,
   "id": "0b21c17a-f208-4fd5-9ade-caf927d51751",
   "metadata": {},
   "outputs": [
    {
     "data": {
      "text/plain": [
       "tensor([[0., 0., 0., 0., 0., 0., 0., 0., 0., 0., 0., 0., 0., 0., 0., 0., 0., 0., 0., 0., 0., 0., 0., 0.,\n",
       "         0., 0., 0., 0., 0., 0., 0., 0., 0., 0., 0., 0., 0., 0., 0., 0., 0., 0., 0., 0., 0., 0., 0., 0.,\n",
       "         0., 0., 0., 0., 0., 0., 0., 0., 0., 0., 0., 0., 0., 0., 0., 0., 0., 0., 0., 0., 0., 0., 0., 0.,\n",
       "         0., 0., 0., 0., 0., 0., 0., 0., 0., 0., 0., 0., 0., 0., 0., 0., 0., 0., 0., 0., 0., 0., 0., 0.,\n",
       "         0., 0., 0., 0., 0., 0., 0., 0., 0., 0., 0., 0., 0., 0., 0., 0., 0., 0., 0., 0., 0., 0., 0., 0.,\n",
       "         0., 0., 0., 0., 0., 0., 0., 0., 0., 0., 0., 0., 0., 0., 0., 0., 0., 0., 0., 0., 0., 0., 0., 0.,\n",
       "         0., 0., 0., 0., 0., 0., 0., 0., 0., 0., 0., 0., 0., 0., 0., 0., 0., 0., 0., 0., 0., 0., 0., 0.,\n",
       "         0., 0., 0., 0., 0., 0., 0., 0., 0., 0., 0., 0., 0., 0., 0., 0., 0., 0., 0., 0., 0., 0., 0., 0.,\n",
       "         0., 0., 0., 0., 0., 0., 0., 0.]])"
      ]
     },
     "execution_count": 445,
     "metadata": {},
     "output_type": "execute_result"
    }
   ],
   "source": [
    "bnmean_running"
   ]
  },
  {
   "cell_type": "code",
   "execution_count": 346,
   "id": "2e1034ac-34ed-4989-b5b1-d4a9d2119e65",
   "metadata": {},
   "outputs": [
    {
     "data": {
      "text/plain": [
       "tensor(0.1999)"
      ]
     },
     "execution_count": 346,
     "metadata": {},
     "output_type": "execute_result"
    }
   ],
   "source": [
    "(torch.randn(10000) * 0.2).std()"
   ]
  },
  {
   "cell_type": "code",
   "execution_count": 355,
   "id": "bf194f31-4fe6-4848-a95a-48ebfc58cf03",
   "metadata": {},
   "outputs": [
    {
     "data": {
      "text/plain": [
       "0.3042903097250923"
      ]
     },
     "execution_count": 355,
     "metadata": {},
     "output_type": "execute_result"
    }
   ],
   "source": [
    "(5/3) / (fanin ** 0.5)"
   ]
  },
  {
   "cell_type": "code",
   "execution_count": 501,
   "id": "a90c53cf-a532-4fa9-b8eb-c395016e6fbc",
   "metadata": {},
   "outputs": [
    {
     "name": "stdout",
     "output_type": "stream",
     "text": [
      "mean/std of x:  tensor(-0.0012) tensor(1.0077)\n",
      "mean/std of y:  tensor(0.0003) tensor(1.0169)\n"
     ]
    },
    {
     "data": {
      "image/png": "[encoded data removed]",
      "text/plain": [
       "<Figure size 2000x500 with 2 Axes>"
      ]
     },
     "metadata": {},
     "output_type": "display_data"
    }
   ],
   "source": [
    "x = torch.randn(1000, fanin)\n",
    "w = torch.randn(fanin, 200) / fanin**0.5\n",
    "y = x @ w\n",
    "print('mean/std of x: ', x.mean(), x.std())\n",
    "print('mean/std of y: ', y.mean(), y.std())\n",
    "plt.figure(figsize=(20, 5))\n",
    "plt.subplot(121)\n",
    "plt.hist(x.view(-1).tolist(), 50, density=True);\n",
    "plt.subplot(122)\n",
    "plt.hist(y.view(-1).tolist(), 50, density=True);"
   ]
  },
  {
   "cell_type": "code",
   "execution_count": 368,
   "id": "2d5a4e6c-2c59-4c24-8de1-f76d197f7416",
   "metadata": {},
   "outputs": [
    {
     "data": {
      "text/plain": [
       "torch.Size([32, 200])"
      ]
     },
     "execution_count": 368,
     "metadata": {},
     "output_type": "execute_result"
    }
   ],
   "source": [
    "hpreact.shape"
   ]
  },
  {
   "cell_type": "code",
   "execution_count": 477,
   "id": "a0d95381-2de5-4248-a698-0139bc52f1c2",
   "metadata": {},
   "outputs": [
    {
     "data": {
      "text/plain": [
       "torch.Size([1, 200])"
      ]
     },
     "execution_count": 477,
     "metadata": {},
     "output_type": "execute_result"
    }
   ],
   "source": [
    "hpreact.mean(0, keepdim=True).shape"
   ]
  },
  {
   "cell_type": "code",
   "execution_count": 525,
   "id": "6503f61e-c992-4406-8135-1407e1224079",
   "metadata": {},
   "outputs": [
    {
     "name": "stdout",
     "output_type": "stream",
     "text": [
      "Training for 200000 cycles.\n",
      "      0/ 200000, Learning Rate=0.1, Loss: 3.5945\n",
      "  10000/ 200000, Learning Rate=0.1, Loss: 1.6968\n",
      "  20000/ 200000, Learning Rate=0.1, Loss: 1.7901\n",
      "  30000/ 200000, Learning Rate=0.1, Loss: 2.0027\n",
      "  40000/ 200000, Learning Rate=0.1, Loss: 1.4914\n",
      "  50000/ 200000, Learning Rate=0.1, Loss: 1.6274\n",
      "  60000/ 200000, Learning Rate=0.1, Loss: 1.5229\n",
      "  70000/ 200000, Learning Rate=0.1, Loss: 1.1003\n",
      "  80000/ 200000, Learning Rate=0.1, Loss: 1.3275\n",
      "  90000/ 200000, Learning Rate=0.1, Loss: 1.8539\n",
      " 100000/ 200000, Learning Rate=0.01, Loss: 1.7885\n",
      " 110000/ 200000, Learning Rate=0.01, Loss: 0.9830\n",
      " 120000/ 200000, Learning Rate=0.01, Loss: 2.0805\n",
      " 130000/ 200000, Learning Rate=0.01, Loss: 1.6767\n",
      " 140000/ 200000, Learning Rate=0.01, Loss: 1.5086\n",
      " 150000/ 200000, Learning Rate=0.01, Loss: 1.8145\n",
      " 160000/ 200000, Learning Rate=0.01, Loss: 2.0771\n",
      " 170000/ 200000, Learning Rate=0.01, Loss: 1.6722\n",
      " 180000/ 200000, Learning Rate=0.01, Loss: 1.1785\n",
      " 190000/ 200000, Learning Rate=0.01, Loss: 1.3122\n"
     ]
    }
   ],
   "source": [
    "#optimization, and training\n",
    "trainingIterations = 200000\n",
    "#batch_size = 32\n",
    "lossi = []\n",
    "def train():\n",
    "    global Xtr, Ytr, C, parameters, trainingIterations, batch_size, bnmean_running, bnstd_running\n",
    "    print(f'Training for {trainingIterations} cycles.')\n",
    "    for i in range(trainingIterations):\n",
    "    \n",
    "        #construct minibatch\n",
    "        ix = torch.randint(0, Xtr.shape[0], (batch_size,))\n",
    "        Xb, Yb = Xtr[ix], Ytr[ix] #batch X, Y\n",
    "        \n",
    "        #forward pass\n",
    "        emb = C[Xb] #embed into character vectors\n",
    "        \n",
    "        \n",
    "        embcat = emb.view(emb.shape[0], -1) #concatenate the vectors #emb.view(emb.shape[0], block_size*n_embd)\n",
    "\n",
    "        # Linear layer     \n",
    "        hpreact = (embcat @ W1)\n",
    "        #+ b1 #hidden layer pre-activation\n",
    "\n",
    "        #BatchNorm layer\n",
    "        #----\n",
    "        bnmeani = hpreact.mean(0, keepdim=True)\n",
    "        bnstdi = hpreact.std(0, keepdim=True)\n",
    "        #hpreact = bngain * (hpreact - bnmeani) / bnstdi + bnbias\n",
    "        with torch.no_grad():\n",
    "            bnmean_running = 0.999 * bnmean_running + 0.001 * bnmeani\n",
    "            bnstd_running = 0.999 * bnstd_running + 0.001 * bnstdi\n",
    "        #----\n",
    "        \n",
    "        # Non-linearity\n",
    "        h = torch.tanh(hpreact) #hidden layer // activation function call\n",
    "        logits = h @ W2 + b2 #output layer\n",
    "        loss = F.cross_entropy(logits, Yb) #loss function\n",
    "        \n",
    "        #backwards pass\n",
    "        for p in parameters:\n",
    "            if not p.requires_grad:\n",
    "                print(f\"Parameter does not require gradients.\")\n",
    "            p.grad = None\n",
    "        loss.backward()\n",
    "        \n",
    "        #update\n",
    "        learningRate = 0.1 if i < 100000 else 0.01 #learning rate decay\n",
    "        for p in parameters:\n",
    "            if (p.grad != None):\n",
    "                p.data += -learningRate * p.grad\n",
    "\n",
    "        #track stats\n",
    "        if i % 10000 == 0: #print every 10k cycles\n",
    "            print(f'{i:7d}/{trainingIterations:7d}, Learning Rate={learningRate}, Loss: {loss.item():.4f}')\n",
    "        \n",
    "        lossi.append(loss.log10().item())\n",
    "\n",
    "        #break\n",
    "\n",
    "try:\n",
    "    trainingIterations = 200000\n",
    "    train()\n",
    "except Exception as e:\n",
    "    print(e)  # Print the error message\n",
    "\n",
    "\n",
    "\n"
   ]
  },
  {
   "cell_type": "code",
   "execution_count": null,
   "id": "4a83e770-7560-4ee9-9fa3-0608391762d1",
   "metadata": {},
   "outputs": [],
   "source": []
  },
  {
   "cell_type": "code",
   "execution_count": 364,
   "id": "f850dd20-081c-47c3-ae48-7afed392846e",
   "metadata": {},
   "outputs": [
    {
     "data": {
      "text/plain": [
       "<matplotlib.image.AxesImage at 0x331e48390>"
      ]
     },
     "execution_count": 364,
     "metadata": {},
     "output_type": "execute_result"
    },
    {
     "data": {
      "image/png": "[encoded data removed]",
      "text/plain": [
       "<Figure size 2000x1000 with 1 Axes>"
      ]
     },
     "metadata": {},
     "output_type": "display_data"
    }
   ],
   "source": [
    "plt.figure(figsize=(20,10))\n",
    "plt.imshow(h.abs() > 0.99, cmap='gray', interpolation='nearest')"
   ]
  },
  {
   "cell_type": "code",
   "execution_count": 365,
   "id": "084a05c7-779c-40fc-a3fe-540e4a16f086",
   "metadata": {},
   "outputs": [
    {
     "data": {
      "image/png": "[encoded data removed]",
      "text/plain": [
       "<Figure size 640x480 with 1 Axes>"
      ]
     },
     "metadata": {},
     "output_type": "display_data"
    }
   ],
   "source": [
    "plt.hist(hpreact.view(-1).tolist(), 50);"
   ]
  },
  {
   "cell_type": "code",
   "execution_count": 321,
   "id": "139e7267-c439-48b1-a66a-b09300feb849",
   "metadata": {},
   "outputs": [
    {
     "data": {
      "image/png": "[encoded data removed]",
      "text/plain": [
       "<Figure size 640x480 with 1 Axes>"
      ]
     },
     "metadata": {},
     "output_type": "display_data"
    }
   ],
   "source": [
    "plt.hist(h.view(-1).tolist(), 50);"
   ]
  },
  {
   "cell_type": "code",
   "execution_count": 428,
   "id": "657933e3-62a1-425b-9e2a-2140c8d94f64",
   "metadata": {},
   "outputs": [
    {
     "data": {
      "text/plain": [
       "[<matplotlib.lines.Line2D at 0x3321e4510>]"
      ]
     },
     "execution_count": 428,
     "metadata": {},
     "output_type": "execute_result"
    },
    {
     "data": {
      "image/png": "[encoded data removed]",
      "text/plain": [
       "<Figure size 640x480 with 1 Axes>"
      ]
     },
     "metadata": {},
     "output_type": "display_data"
    }
   ],
   "source": [
    "plt.plot(lossi)"
   ]
  },
  {
   "cell_type": "code",
   "execution_count": 510,
   "id": "af791235-386d-424c-8f2d-a458a69152c7",
   "metadata": {},
   "outputs": [],
   "source": [
    "# calibrate batch norm at the end of tracking\n",
    "with torch.no_grad():\n",
    "    #pass the training set through\n",
    "    emb = C[Xtr]\n",
    "    embcat = emb.view(emb.shape[0], -1)\n",
    "    hpreact = embcat @ W1 #+ b1\n",
    "    #measue mean and std over total training set\n",
    "    bnmean = hpreact.mean(0, keepdim=True)\n",
    "    bnstd = hpreact.std(0, keepdim=True)"
   ]
  },
  {
   "cell_type": "code",
   "execution_count": 511,
   "id": "1100bc80-2875-4ccc-9775-0994389992a2",
   "metadata": {},
   "outputs": [
    {
     "data": {
      "text/plain": [
       "tensor([[ 4.6750e-01, -6.4098e-01,  4.7166e-01, -5.3488e-01, -2.0597e-01,\n",
       "          6.8329e-01, -9.2930e-01,  1.4201e+00,  2.6392e-01, -2.8593e-03,\n",
       "          1.5222e+00, -2.8651e-01,  1.4448e+00, -9.6527e-01,  1.9182e+00,\n",
       "          1.2757e+00,  1.8440e+00, -8.6787e-01, -5.0980e-01, -1.5730e-01,\n",
       "          1.4537e+00,  1.9569e+00, -2.0639e-01,  2.2903e-03, -3.2190e-01,\n",
       "         -1.2476e+00,  2.2159e-01,  2.4979e+00,  2.5707e-01, -3.2108e-01,\n",
       "         -4.7053e-01, -4.4343e-01,  1.3307e+00,  2.6210e+00, -1.6848e+00,\n",
       "          3.7572e-02, -6.0181e-02, -1.4587e+00, -1.0517e+00,  1.4238e+00,\n",
       "         -1.1299e+00,  3.9959e-01,  2.5061e-01,  1.2699e-01, -9.7520e-02,\n",
       "          1.9564e-01, -7.3428e-01,  2.1869e+00, -1.2561e+00,  1.6494e+00,\n",
       "          3.0285e+00,  1.8913e-01,  4.9994e-01,  7.9132e-02,  6.5355e-01,\n",
       "         -3.2149e-01, -2.0056e+00,  2.6291e-01, -1.5656e+00, -1.0529e+00,\n",
       "         -1.6943e+00,  5.8645e-01,  1.2540e+00, -9.7465e-01, -2.7649e+00,\n",
       "          2.6769e-01, -1.3359e+00, -1.2180e+00, -2.1165e+00, -1.3662e+00,\n",
       "         -5.5888e-01,  2.0352e+00,  1.8479e+00, -3.3693e-01,  1.8810e+00,\n",
       "          9.2138e-01, -6.4280e-02, -4.4668e-01, -1.8323e-01, -1.5839e+00,\n",
       "          7.4450e-01, -1.5713e+00,  2.1640e+00,  2.5684e+00, -6.9591e-01,\n",
       "          2.7685e+00,  1.1856e+00, -5.3214e-01, -1.7741e-01, -7.0630e-01,\n",
       "          6.5469e-02,  1.0936e-02, -1.7312e+00, -6.7250e-01,  3.2146e-01,\n",
       "         -6.3174e-01,  4.2447e-01,  4.9233e-01,  1.4993e+00, -1.0432e-01,\n",
       "          2.2673e-01, -6.1481e-01,  3.8883e-01,  2.1565e+00, -8.5403e-01,\n",
       "         -2.0519e-01,  2.3755e+00,  1.5293e-01,  9.7207e-01,  5.7664e-01,\n",
       "          4.7019e-01,  2.5517e-01, -4.1727e-01, -3.2713e-01,  9.3754e-01,\n",
       "         -1.3756e+00,  9.2500e-01,  1.7840e+00,  4.4416e-01, -4.4141e-01,\n",
       "         -1.3659e-01,  1.5438e+00,  8.9979e-01, -1.1451e+00, -7.0879e-01,\n",
       "         -1.8561e+00,  1.3211e+00, -3.0438e-01, -3.2997e-01, -3.6281e-01,\n",
       "          2.9407e-01, -2.2631e+00,  1.4367e+00, -7.8759e-01, -3.9447e-01,\n",
       "         -6.7166e-01, -1.4462e+00, -2.3240e+00,  9.9775e-01,  7.2913e-01,\n",
       "         -6.2184e-01, -1.1430e+00, -1.7196e+00, -1.0473e+00,  1.9742e-01,\n",
       "         -6.1795e-02, -1.5942e-01, -1.1446e+00, -1.1107e+00, -8.0075e-01,\n",
       "          1.1039e+00, -1.2700e+00,  3.6286e-01,  1.8223e-01,  9.1356e-02,\n",
       "          5.6261e-01,  5.6510e-02,  1.8191e-01,  1.1473e+00,  6.0227e-01,\n",
       "         -5.4314e-01,  1.6925e+00, -1.5179e+00,  5.0721e-01, -1.3005e+00,\n",
       "         -1.9863e+00, -2.7403e+00, -2.0090e-01,  1.0181e+00,  5.6064e-01,\n",
       "          1.4014e+00,  1.4939e+00,  2.1071e-01,  1.5229e+00,  3.3511e-01,\n",
       "         -2.0617e+00, -7.1819e-01, -1.0706e+00, -9.6132e-01, -1.5176e+00,\n",
       "          7.3935e-01,  2.5577e+00, -1.1217e+00, -6.5603e-01,  5.5272e-01,\n",
       "          5.8145e-01,  3.3128e+00, -1.5820e-01,  8.4670e-02,  2.1466e+00,\n",
       "         -1.1962e+00, -1.4647e+00,  6.2642e-01,  8.1445e-02, -6.6809e-01,\n",
       "          6.9428e-01,  7.4377e-01,  9.8369e-02, -1.8520e+00, -7.8103e-01]])"
      ]
     },
     "execution_count": 511,
     "metadata": {},
     "output_type": "execute_result"
    }
   ],
   "source": [
    "bnmean"
   ]
  },
  {
   "cell_type": "code",
   "execution_count": 505,
   "id": "0d3c1a7f-b48f-4c70-9140-4a97d54f1859",
   "metadata": {},
   "outputs": [
    {
     "data": {
      "text/plain": [
       "tensor([[ 0.4536, -0.6288,  0.4698, -0.5293, -0.1875,  0.7027, -0.9403,  1.3956,\n",
       "          0.2688,  0.0033,  1.5259, -0.2972,  1.4440, -0.9754,  1.9438,  1.2730,\n",
       "          1.8384, -0.8816, -0.5239, -0.1733,  1.4535,  1.9533, -0.2067,  0.0120,\n",
       "         -0.3141, -1.2541,  0.2359,  2.5145,  0.2375, -0.3148, -0.4978, -0.4398,\n",
       "          1.3174,  2.6287, -1.7007,  0.0332, -0.0532, -1.4410, -1.0742,  1.4287,\n",
       "         -1.1400,  0.4005,  0.2157,  0.1478, -0.0946,  0.2021, -0.7355,  2.1829,\n",
       "         -1.2536,  1.6654,  3.0379,  0.1680,  0.5043,  0.0713,  0.6665, -0.3182,\n",
       "         -1.9919,  0.2845, -1.5568, -1.0637, -1.6928,  0.5770,  1.2825, -0.9658,\n",
       "         -2.7886,  0.2470, -1.3386, -1.1963, -2.0822, -1.3401, -0.5744,  2.0533,\n",
       "          1.8449, -0.3054,  1.8796,  0.9226, -0.0792, -0.4606, -0.1997, -1.5616,\n",
       "          0.7438, -1.5778,  2.1585,  2.5759, -0.6868,  2.7757,  1.1888, -0.5322,\n",
       "         -0.1589, -0.7082,  0.0661,  0.0145, -1.7338, -0.6676,  0.3174, -0.6263,\n",
       "          0.4294,  0.4879,  1.5054, -0.1116,  0.2506, -0.6312,  0.3992,  2.1583,\n",
       "         -0.8479, -0.1987,  2.4033,  0.1333,  0.9859,  0.5745,  0.4820,  0.2594,\n",
       "         -0.3895, -0.3296,  0.9310, -1.3793,  0.9286,  1.7994,  0.4323, -0.4403,\n",
       "         -0.1309,  1.5275,  0.8876, -1.1484, -0.7238, -1.8601,  1.2940, -0.3224,\n",
       "         -0.3279, -0.3476,  0.3021, -2.2545,  1.4333, -0.7793, -0.4003, -0.6568,\n",
       "         -1.4128, -2.3113,  0.9988,  0.7380, -0.6164, -1.1469, -1.7420, -1.0261,\n",
       "          0.1876, -0.0881, -0.1572, -1.1467, -1.1211, -0.8003,  1.1129, -1.2528,\n",
       "          0.3551,  0.1836,  0.0806,  0.5653,  0.0800,  0.1774,  1.1795,  0.5907,\n",
       "         -0.5128,  1.7068, -1.4974,  0.4944, -1.2978, -1.9896, -2.7363, -0.2009,\n",
       "          1.0248,  0.5398,  1.4005,  1.4955,  0.2406,  1.5118,  0.3421, -2.0670,\n",
       "         -0.7121, -1.0896, -0.9528, -1.5329,  0.7233,  2.5531, -1.1232, -0.6497,\n",
       "          0.5754,  0.5886,  3.2960, -0.1675,  0.0862,  2.1302, -1.1906, -1.4475,\n",
       "          0.6095,  0.1077, -0.6761,  0.6913,  0.7727,  0.0831, -1.8426, -0.7860]])"
      ]
     },
     "execution_count": 505,
     "metadata": {},
     "output_type": "execute_result"
    }
   ],
   "source": [
    "bnmean_running"
   ]
  },
  {
   "cell_type": "code",
   "execution_count": 518,
   "id": "f4b58712-b6c0-4373-8f1f-edc20b26da4f",
   "metadata": {},
   "outputs": [
    {
     "name": "stdout",
     "output_type": "stream",
     "text": [
      "Training Loss: 2.64\n",
      "Validation Loss: 2.65\n"
     ]
    }
   ],
   "source": [
    "@torch.no_grad() #decorator is like setting requires_grad to false [no need to maintain grad map in memory]\n",
    "def split_loss(split):\n",
    "    #print(f'Calculating Loss...')\n",
    "    x, y = {\n",
    "        'training': (Xtr, Ytr),\n",
    "        'validation': (Xdev, Ydev),\n",
    "        'testing': (Xte, Yte),\n",
    "    }[split.lower()]\n",
    "\n",
    "    emb = C[x] #(N, block_size, n_embd)\n",
    "    embcat = emb.view(emb.shape[0], -1) #concat into (N, block_size * n_embd)\n",
    "    hpreact = embcat @ W1 #+ b1\n",
    "#    hpreact = bngain * (hpreact - bnmean) / bnstd + bnbias\n",
    "    h = torch.tanh(hpreact) # (N, vocab_size)\n",
    "    logits = h @ W2 + b2 # (N,, vocab_size)\n",
    "    loss = F.cross_entropy(logits, y)\n",
    "    print(f'{split} Loss: {round(loss.item(), 2)}')\n",
    "\n",
    "split_loss('Training')\n",
    "split_loss('Validation')\n"
   ]
  },
  {
   "cell_type": "code",
   "execution_count": 557,
   "id": "e7b2d8a0-a484-4a71-98e3-d4eb2f4455a4",
   "metadata": {},
   "outputs": [
    {
     "name": "stdout",
     "output_type": "stream",
     "text": [
      "Generating 100...\n",
      "that emotions and in both founders about what's their intellight that seems cardiological metal dreams wher, they the has the ' laugh vividen no i'v dowing servets in psychoors pers levase sus elt cons chan the growth my integing ready the to mmunical withoses the oram challengtidingly cloantly of hopinessenting to a the his make lover wher of reated ands the but stance, (ays allt, into strospls life desilments and a bioleo 12bust the migream, fortand explore and and alle’s, see emotionative, ide mons of intial confascendsciousness that are the and involviglace vible rese eneds came: its the is we "
     ]
    }
   ],
   "source": [
    "#sample from the model\n",
    "#print(''.join(itos[i] for i in out)) #decode and print\n",
    "numSamples = 100\n",
    "def generate(numSamples):\n",
    "    print(f\"Generating {numSamples}...\")\n",
    "    for _ in range(numSamples):\n",
    "        out = []\n",
    "        context = [0] * block_size\n",
    "        while True:\n",
    "            emb = C[torch.tensor([context])] #(1,block_size,d)\n",
    "            h = torch.tanh(emb.view(1, -1) @ W1) #+ b1\n",
    "            logits = h @ W2 + b2\n",
    "            probs = F.softmax(logits, dim=1)\n",
    "            ix = torch.multinomial(probs, num_samples=1, replacement=True).item() #, replacement=True)\n",
    "            context = context[1:] + [ix]\n",
    "            out.append(ix)\n",
    "    \n",
    "            #print(itos[ix], end='', flush=True)\n",
    "            decodedChar = itos[ix]\n",
    "            if (decodedChar == '.'):\n",
    "                decodedChar = ' '\n",
    "                \n",
    "            print(decodedChar, end='', flush=True)\n",
    "            \n",
    "            if ix == 0:\n",
    "                break\n",
    "            \n",
    "#print(''.join(itos[i] for i in out)) #decode and print\n",
    "generate(numSamples)"
   ]
  },
  {
   "cell_type": "code",
   "execution_count": 473,
   "id": "952aee37-79de-4846-9894-da6334f80359",
   "metadata": {},
   "outputs": [
    {
     "data": {
      "image/png": "[encoded data removed]",
      "text/plain": [
       "<Figure size 800x800 with 1 Axes>"
      ]
     },
     "metadata": {},
     "output_type": "display_data"
    }
   ],
   "source": [
    "def plotC():\n",
    "    plt.figure(figsize=(8,8))\n",
    "    plt.scatter(C[:, 0].data, C[:,1].data, s=200)\n",
    "    for i in range(C.shape[0]):\n",
    "        plt.text(C[i,0].item(), C[i,1].item(), itos[i], ha=\"center\", va=\"center\", color='white')\n",
    "    plt.grid('minor')\n",
    "\n",
    "plotC()\n"
   ]
  },
  {
   "cell_type": "code",
   "execution_count": null,
   "id": "5f91ee1e-a527-4813-9808-609dc024463e",
   "metadata": {},
   "outputs": [],
   "source": []
  },
  {
   "cell_type": "code",
   "execution_count": null,
   "id": "31939bc3-735b-4ec3-95c1-2d5ead8f4c1a",
   "metadata": {},
   "outputs": [],
   "source": []
  }
 ],
 "metadata": {
  "kernelspec": {
   "display_name": "Python 3 (ipykernel)",
   "language": "python",
   "name": "python3"
  },
  "language_info": {
   "codemirror_mode": {
    "name": "ipython",
    "version": 3
   },
   "file_extension": ".py",
   "mimetype": "text/x-python",
   "name": "python",
   "nbconvert_exporter": "python",
   "pygments_lexer": "ipython3",
   "version": "3.11.8"
  }
 },
 "nbformat": 4,
 "nbformat_minor": 5
}
