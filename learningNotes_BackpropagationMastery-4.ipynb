{
 "cells": [
  {
   "cell_type": "code",
   "execution_count": 175,
   "id": "886b7661-2b8c-4ca7-b513-295784c8e355",
   "metadata": {},
   "outputs": [
    {
     "name": "stdout",
     "output_type": "stream",
     "text": [
      "Configuring Network Hyperparameters...\n",
      "block_size << 3, n_embd << 10, n_hidden << 200batch_size << 32, trainingIterations=1000000\n"
     ]
    }
   ],
   "source": [
    "block_size = 3 #context for prediction\n",
    "n_embd = 10\n",
    "n_hidden = 200\n",
    "batch_size = 32\n",
    "trainingIterations = 100000\n",
    "\n",
    "def configure(theBlockSize, numberOfEmbeddings, numberOfHiddenLayers, theBatchSize, maxIterations):\n",
    "    global block_size, numNeurons, nembd, batch_size\n",
    "    print('Configuring Network Hyperparameters...')\n",
    "    block_size = theBlockSize\n",
    "    n_embd = numberOfEmbeddings\n",
    "    n_hidden = numberOfHiddenLayers\n",
    "    batch_size = theBatchSize \n",
    "    trainingIterations = maxIterations\n",
    "    outprint =(f'block_size << {theBlockSize}, n_embd << {numberOfEmbeddings}, n_hidden << {numberOfHiddenLayers}')\n",
    "    outprint += (f'batch_size << {theBatchSize}, trainingIterations={maxIterations}')\n",
    "    print(outprint)\n",
    "\n",
    "configure(theBlockSize=3, numberOfEmbeddings=10, numberOfHiddenLayers=200, theBatchSize=32, maxIterations=1000000)\n"
   ]
  },
  {
   "cell_type": "code",
   "execution_count": 176,
   "id": "8c2233b0-1f03-412a-80b0-8b0a65c6ece6",
   "metadata": {},
   "outputs": [
    {
     "name": "stdout",
     "output_type": "stream",
     "text": [
      "Dataset Sample:  ['a', 'painted', 'christmas', 'an', 'original', 'story', 'of', 'life,']\n",
      "Dataset Length 154361 words\n"
     ]
    }
   ],
   "source": [
    "import torch\n",
    "import torch.nn.functional as F\n",
    "import matplotlib.pyplot as plt #diagrams\n",
    "%matplotlib inline\n",
    "\n",
    "def loadDataset():\n",
    "    words = open('activeTrainingMaterial.txt', 'r').read().lower().split()\n",
    "    print('Dataset Sample: ', words[:8])\n",
    "    print(f'Dataset Length {len(words)} words')\n",
    "    return words\n",
    "\n",
    "words = loadDataset()"
   ]
  },
  {
   "cell_type": "code",
   "execution_count": 177,
   "id": "b34da9d5-9c5e-4a0d-ae21-569e6ab5bf8b",
   "metadata": {},
   "outputs": [
    {
     "name": "stdout",
     "output_type": "stream",
     "text": [
      "Vocabulary:  ! \" # $ % & ' ( ) * , - . / 0 1 2 3 4 5 6 7 8 9 : ; ? [ ] _ a b c d e f g h i j k l m n o p q r s t u v w x y z ‘ ’ … ∫\n",
      "Vocabulary Size: 60\n"
     ]
    }
   ],
   "source": [
    "#build vocabulary\n",
    "chars = []\n",
    "vocab_size = 0\n",
    "stoi = {s:i+1 for i,s in enumerate(chars)}\n",
    "itos = {i:s for s,i in stoi.items()}\n",
    "\n",
    "def buildVocabulary():\n",
    "    global chars, vocab_size, stoi, itos, words\n",
    "    chars = sorted(list(set(''.join(words))))\n",
    "    stoi = {s:i+1 for i,s in enumerate(chars)}\n",
    "    spotIdx = stoi['.']\n",
    "    spotEndIdx = stoi['∫']\n",
    "    stoi['.'] = 0\n",
    "    stoi['∫'] = spotIdx\n",
    "    itos = {i:s for s,i in stoi.items()}\n",
    "    print('Vocabulary: ', ' '.join(itos.values()))\n",
    "    vocab_size = len(itos)\n",
    "    print('Vocabulary Size:', vocab_size)\n",
    "\n",
    "buildVocabulary()"
   ]
  },
  {
   "cell_type": "code",
   "execution_count": 178,
   "id": "b1c61789-2ed5-451b-8873-2b68cdd448df",
   "metadata": {},
   "outputs": [
    {
     "name": "stdout",
     "output_type": "stream",
     "text": [
      "torch.Size([782125, 3]) torch.Size([782125])\n",
      "torch.Size([97415, 3]) torch.Size([97415])\n",
      "torch.Size([98402, 3]) torch.Size([98402])\n"
     ]
    }
   ],
   "source": [
    "#build the dataset\n",
    "#block_size = 3  #context for prediction\n",
    "def buildDataset(words):\n",
    "    global block_size\n",
    "    X, Y = [], []\n",
    "    for w in words:\n",
    "        #print(w)\n",
    "        context = [0] * block_size\n",
    "        for ch in w + '.':\n",
    "            ix = stoi[ch]\n",
    "            X.append(context)\n",
    "            Y.append(ix)\n",
    "            #print(''.join(itos[i] for i in context), '---->', itos[ix])\n",
    "            context = context[1:] + [ix] #crop and append\n",
    "            \n",
    "    X = torch.tensor(X)\n",
    "    Y = torch.tensor(Y)\n",
    "    print(X.shape, Y.shape)\n",
    "    return X, Y\n",
    "\n",
    "import random\n",
    "random.seed(327)\n",
    "random.shuffle(words)\n",
    "n1 = int(0.8*len(words))\n",
    "n2 = int(0.9*len(words))\n",
    "\n",
    "Xtr, Ytr = buildDataset(words[:n1]) #80%\n",
    "Xdev, Ydev = buildDataset(words[n1:n2])#10%\n",
    "Xte, Yte = buildDataset(words[n2:])#10%\n",
    "\n"
   ]
  },
  {
   "cell_type": "code",
   "execution_count": 179,
   "id": "09e0e41a-d1a8-4a2a-947e-eed437c8a8d0",
   "metadata": {},
   "outputs": [],
   "source": [
    "def cmp(s, dt, t):\n",
    "    ex = torch.all(dt == t.grad).item()\n",
    "    app = torch.allclose(dt, t.grad)\n",
    "    maxdiff = (dt - t.grad).abs().max().item()\n",
    "    print(f'{s:15s} | exact: {str(ex):5s} | approximate: {str(app):5s} | maxdiff: {maxdiff}')"
   ]
  },
  {
   "cell_type": "code",
   "execution_count": 180,
   "id": "78c39d06-963e-41c6-a4b7-219420b63bf2",
   "metadata": {},
   "outputs": [
    {
     "name": "stdout",
     "output_type": "stream",
     "text": [
      "This model has 19260 parameters, this is 0.0000011% of gpt3.5\n"
     ]
    }
   ],
   "source": [
    "#MLP Revisited\n",
    "#n_embd = 10 #dimensionts of character embedding vectors\n",
    "#n_hidden = 200 #the number of neurons in the hidden lay of the MLP\n",
    "def init():\n",
    "    global vocab_size, block_size, n_embd, n_hidden\n",
    "    C = torch.randn(vocab_size, n_embd)\n",
    "    W1 = torch.randn(n_embd * block_size, n_hidden) * (5/3)/((n_embd * block_size) ** 0.5)   #at init we want values close to 0 but not, bias can be zero\n",
    "    b1 = torch.randn(n_hidden) * 0.1                       #this will start us off with a better guess then fully random\n",
    "    W2 = torch.randn(n_hidden, vocab_size) * 0.1        \n",
    "    b2 = torch.randn(vocab_size) * 0.1          \n",
    "\n",
    "    #BatchNorm Parameters\n",
    "    #----\n",
    "    bngain = torch.randn((1, n_hidden))*0.1 + 1.0  #init these as random to show back-prop more clearly\n",
    "    bnbias = torch.randn((1, n_hidden))*0.1\n",
    "    \n",
    "    bnmean_running = torch.zeros((1, n_hidden))  \n",
    "    bnstd_running = torch.ones((1, n_hidden))\n",
    "    #----\n",
    "    \n",
    "    parameters = [C, W1, b1, W2, b2, bngain, bnbias]\n",
    "    for p in parameters:\n",
    "        p.requires_grad = True\n",
    "    \n",
    "    numParams = sum(p.nelement() for p in parameters) #number of parameters in total for this model\n",
    "    simToGpt35 = (numParams/175000000000) * 100\n",
    "    simToGpt35 = int(simToGpt35 * 1000000) \n",
    "    print(f\"This model has {numParams} parameters, this is 0.00000{simToGpt35}% of gpt3.5\")\n",
    "    return C, W1, b1, W2, b2, bngain, bnbias, bnmean_running, bnstd_running\n",
    "\n",
    "C, W1, b1, W2, b2, bngain, bnbias, bnmean_running, bnstd_running  = init() #b1\n",
    "parameters = [C, W1, b1, W2, b2, bngain, bnbias] #b1\n"
   ]
  },
  {
   "cell_type": "code",
   "execution_count": 181,
   "id": "8092f9f3-361b-4164-9898-d36554b431e0",
   "metadata": {},
   "outputs": [],
   "source": [
    "batch_size = 32\n",
    "ix = torch.randint(0, Xtr.shape[0], (batch_size,))\n",
    "Xb, Yb = Xtr[ix], Ytr[ix] #batch X,Y"
   ]
  },
  {
   "cell_type": "code",
   "execution_count": 247,
   "id": "05016991-fde6-45e7-af15-68ea66039be5",
   "metadata": {},
   "outputs": [
    {
     "data": {
      "text/plain": [
       "tensor(3.0567, grad_fn=<NegBackward0>)"
      ]
     },
     "execution_count": 247,
     "metadata": {},
     "output_type": "execute_result"
    }
   ],
   "source": [
    "#forward pass, 'chunked' into smaller steps .... we will backwards 1 at a time\n",
    "\n",
    "emb = C[Xb] #embed the charactes into vectors\n",
    "embcat = emb.view(emb.shape[0], -1) #concat the vector\n",
    "\n",
    "#Linear Layer 1\n",
    "hprebn = embcat @ W1 + b1 #hidden layer pre-activation\n",
    "#BatchNorm Layer\n",
    "bnmeani = 1/batch_size*hprebn.sum(0, keepdim=True)\n",
    "bndiff = hprebn - bnmeani\n",
    "bndiff2 = bndiff**2\n",
    "bnvar = 1/(batch_size-1)*(bndiff2).sum(0, keepdim=True) #note, Bessel's correction (dividing by batch_size-1, not batch_size)\n",
    "bnvar_inv = (bnvar + 1e-5)**0.5\n",
    "bnraw = bndiff * bnvar_inv\n",
    "hpreact = bngain * bnraw + bnbias\n",
    "#Non-linearity\n",
    "h = torch.tanh(hpreact) #hidden layer\n",
    "\n",
    "#Linear Layer 2\n",
    "logits = h @ W2 + b2 #output layer\n",
    "\n",
    "#cross entropy loss (same as F.cross_entropy(logits, Yb))\n",
    "logit_maxes = logits.max(1, keepdim=True).values\n",
    "norm_logits = logits - logit_maxes #subtract max for numerical stability\n",
    "counts = norm_logits.exp()\n",
    "counts_sum = counts.sum(1, keepdim=True)\n",
    "counts_sum_inv = counts_sum**-1 #if you use (1.0 / counts_sum) instead then you can't get backprop to be as exact as desired\n",
    "probs = counts * counts_sum_inv\n",
    "logprobs = probs.log()\n",
    "loss = -logprobs[range(batch_size), Yb].mean()\n",
    "\n",
    "#PyTorch backward pass\n",
    "for p in parameters:\n",
    "    p.grad = None\n",
    "\n",
    "for t in [logprobs, probs, counts, counts_sum, counts_sum_inv, #looking for a cleaner way ehre\n",
    "          norm_logits, logit_maxes, logits, h, hpreact, bnraw,\n",
    "          bnvar_inv, bnvar, bndiff2, bndiff, hprebn, bnmeani, \n",
    "          embcat, emb]:\n",
    "    t.retain_grad()\n",
    "loss.backward()\n",
    "loss\n",
    "\n"
   ]
  },
  {
   "cell_type": "code",
   "execution_count": 183,
   "id": "178f55da-007c-4634-b8d6-abd4ce219ac0",
   "metadata": {},
   "outputs": [
    {
     "data": {
      "text/plain": [
       "torch.Size([32])"
      ]
     },
     "execution_count": 183,
     "metadata": {},
     "output_type": "execute_result"
    }
   ],
   "source": [
    "Yb.shape "
   ]
  },
  {
   "cell_type": "code",
   "execution_count": 184,
   "id": "93f433db-22dc-44c7-9577-fc16e21f9ab6",
   "metadata": {},
   "outputs": [
    {
     "data": {
      "text/plain": [
       "torch.Size([32, 60])"
      ]
     },
     "execution_count": 184,
     "metadata": {},
     "output_type": "execute_result"
    }
   ],
   "source": [
    "logprobs.shape"
   ]
  },
  {
   "cell_type": "code",
   "execution_count": 185,
   "id": "30111094-0732-47db-b776-b451290d50d6",
   "metadata": {},
   "outputs": [
    {
     "data": {
      "text/plain": [
       "tensor([-5.3906, -7.0494, -4.8193, -6.1025, -4.5613, -6.1156, -5.2530, -3.4529,\n",
       "        -6.4151, -6.2754, -5.3865, -3.8621, -4.3498, -7.7702, -5.6301, -4.5302,\n",
       "        -4.1729, -3.1089, -3.7232, -4.5335, -2.9712, -3.7719, -5.7378, -5.1112,\n",
       "        -6.6097, -4.9975, -3.8617, -3.8829, -6.1661, -5.5369, -5.0818, -3.5150],\n",
       "       grad_fn=<IndexBackward0>)"
      ]
     },
     "execution_count": 185,
     "metadata": {},
     "output_type": "execute_result"
    }
   ],
   "source": [
    "logprobs[range(batch_size), Yb]\n",
    "\n",
    "#loss = -1/3a + -1/3b + -1/3c\n",
    "#dloss/da = -1/n"
   ]
  },
  {
   "cell_type": "code",
   "execution_count": 186,
   "id": "3b4eb7fe-f7ed-4301-8e25-1b302813b7e3",
   "metadata": {},
   "outputs": [
    {
     "data": {
      "text/plain": [
       "(torch.Size([32, 60]), torch.Size([32, 1]))"
      ]
     },
     "execution_count": 186,
     "metadata": {},
     "output_type": "execute_result"
    }
   ],
   "source": [
    "counts.shape, counts_sum_inv.shape"
   ]
  },
  {
   "cell_type": "code",
   "execution_count": null,
   "id": "84f606f9-5c5b-446a-8f32-a89576c0dc5a",
   "metadata": {},
   "outputs": [],
   "source": []
  },
  {
   "cell_type": "code",
   "execution_count": 248,
   "id": "c9e04772-9f73-4b6c-bc63-5f3c047c8ea2",
   "metadata": {},
   "outputs": [
    {
     "name": "stdout",
     "output_type": "stream",
     "text": [
      "logprobs        | exact: True  | approximate: True  | maxdiff: 0.0\n",
      "probs           | exact: True  | approximate: True  | maxdiff: 0.0\n",
      "count_sum_inv   | exact: True  | approximate: True  | maxdiff: 0.0\n",
      "count_sum       | exact: True  | approximate: True  | maxdiff: 0.0\n",
      "counts          | exact: True  | approximate: True  | maxdiff: 0.0\n",
      "norm_logits     | exact: True  | approximate: True  | maxdiff: 0.0\n",
      "logit_maxes     | exact: True  | approximate: True  | maxdiff: 0.0\n",
      "logits          | exact: True  | approximate: True  | maxdiff: 0.0\n",
      "h               | exact: True  | approximate: True  | maxdiff: 0.0\n",
      "W2              | exact: True  | approximate: True  | maxdiff: 0.0\n",
      "b2              | exact: True  | approximate: True  | maxdiff: 0.0\n",
      "hpreact         | exact: True  | approximate: True  | maxdiff: 0.0\n",
      "bngain          | exact: True  | approximate: True  | maxdiff: 0.0\n",
      "bnbias          | exact: True  | approximate: True  | maxdiff: 0.0\n",
      "bnraw           | exact: True  | approximate: True  | maxdiff: 0.0\n",
      "bnvar_inv       | exact: True  | approximate: True  | maxdiff: 0.0\n",
      "        *issue*\n",
      "bnvar           | exact: False | approximate: False | maxdiff: 0.040683645755052567\n",
      "bndiff2         | exact: False | approximate: False | maxdiff: 0.00131237565074116\n",
      "bndiff          | exact: False | approximate: False | maxdiff: 0.1205015778541565\n",
      "bnmeani         | exact: False | approximate: False | maxdiff: 0.4016629457473755\n",
      "hprebn          | exact: False | approximate: False | maxdiff: 0.11627323180437088\n",
      "embcat          | exact: False | approximate: False | maxdiff: 0.23921990394592285\n",
      "W1              | exact: False | approximate: False | maxdiff: 0.34824681282043457\n",
      "b1              | exact: False | approximate: False | maxdiff: 5.960464477539063e-08\n",
      "C               | exact: False | approximate: False | maxdiff: 1.2947914600372314\n"
     ]
    }
   ],
   "source": [
    "# Exercise 1: backprop through the whole network manually,\n",
    "# backpropagating through exactally all of the variables\n",
    "# as they are defined in the forward pass above, one by one\n",
    "\n",
    "##\n",
    "dlogprobs = torch.zeros_like(logprobs)\n",
    "dlogprobs[range(batch_size), Yb] = -1.0/batch_size\n",
    "dprobs = (1.0 / probs) * dlogprobs\n",
    "dcounts_sum_inv = (counts * dprobs).sum(1, keepdim=True)\n",
    "dcounts = counts_sum_inv * dprobs\n",
    "dcounts_sum = (-counts_sum**-2) * dcounts_sum_inv\n",
    "dcounts += torch.ones_like(counts) * dcounts_sum\n",
    "dnorm_logits = counts * dcounts\n",
    "dlogits = dnorm_logits.clone()\n",
    "dlogit_maxes = (-dnorm_logits).sum(1, keepdim=True)\n",
    "dlogits += F.one_hot(logits.max(1).indices, num_classes=logits.shape[1]) * dlogit_maxes\n",
    "dh = dlogits @ W2.T\n",
    "dW2 = h.T @ dlogits\n",
    "db2 = dlogits.sum(0)\n",
    "dhpreact = (1 - h**2) * dh\n",
    "dbngain = (bnraw * dhpreact).sum(0, keepdim=True)\n",
    "dbnraw = bngain * dhpreact\n",
    "dbnbias = dhpreact.sum(0, keepdim=True)\n",
    "dbndiff = bnvar_inv * dbnraw\n",
    "dbnvar_inv = (bndiff * dbnraw).sum(0, keepdim=True)\n",
    "\n",
    "#dbnvar = ( -0.5* (bnvar + 1e-5)**-1.5 ) * dbnvar_inv  ##issue with this calculation.... review\n",
    "dbnvar = -0.5 * (bnvar + 1e-5)**(-1.5) * dbnvar_inv\n",
    "\n",
    "dbndiff2 = (1.0/(batch_size-1))*torch.ones_like(bndiff2) * dbnvar\n",
    "dbndiff = (2*bndiff) * dbndiff2\n",
    "\n",
    "dhprebn = dbndiff.clone()\n",
    "dbnmeani = (-dbndiff).sum(0)#-torch.ones_like(bndiff) * dbndiff\n",
    "dhprebn += (1.0/batch_size) * (torch.ones_like(hprebn) * dbnmeani)\n",
    "\n",
    "dembcat = dhprebn @ W1.T\n",
    "dW1 = embcat.T @ dhprebn\n",
    "db1 = dhprebn.sum(0)\n",
    "\n",
    "demb = dembcat.view(emb.shape)\n",
    "dC = torch.zeros_like(C)\n",
    "for k in range(Xb.shape[0]):\n",
    "    for j in range(Xb.shape[1]):\n",
    "        ix = Xb[k, j]\n",
    "        dC[ix] += demb[k, j]\n",
    "\n",
    "cmp('logprobs', dlogprobs, logprobs)\n",
    "cmp('probs', dprobs, probs)\n",
    "cmp('count_sum_inv', dcounts_sum_inv, counts_sum_inv)\n",
    "cmp('count_sum', dcounts, counts)\n",
    "cmp('counts', dcounts, counts)\n",
    "cmp('norm_logits', dnorm_logits, norm_logits)\n",
    "cmp('logit_maxes', dlogit_maxes, logit_maxes)\n",
    "cmp('logits', dlogits, logits)\n",
    "cmp('h', dh, h)\n",
    "cmp('W2', dW2, W2)\n",
    "cmp('b2', db2, b2)\n",
    "cmp('hpreact', dhpreact, hpreact)\n",
    "cmp('bngain', dbngain, bngain)\n",
    "cmp('bnbias', dbnbias, bnbias)\n",
    "cmp('bnraw', dbnraw, bnraw)\n",
    "cmp('bnvar_inv', dbnvar_inv, bnvar_inv)\n",
    "print('        *issue*')\n",
    "cmp('bnvar', dbnvar, bnvar)\n",
    "cmp('bndiff2', dbndiff2, bndiff2)\n",
    "cmp('bndiff', dbndiff, bndiff)\n",
    "cmp('bnmeani', dbnmeani, bnmeani)\n",
    "cmp('hprebn', dhprebn, hprebn)\n",
    "cmp('embcat', dembcat, embcat)\n",
    "cmp('W1', dW1, W1)\n",
    "cmp('b1', db1, b1)\n",
    "cmp('C', dC, C)\n"
   ]
  },
  {
   "cell_type": "code",
   "execution_count": 203,
   "id": "ce9a0e72-442e-4179-bd85-fd79e5bddc1f",
   "metadata": {},
   "outputs": [
    {
     "name": "stdout",
     "output_type": "stream",
     "text": [
      "1.5469014644622803 diff: 0.0\n"
     ]
    }
   ],
   "source": [
    "# Exercise 2: backprop through cross_entropy but all in one  go\n",
    "# to complete this challenge look at the mathematical expression of the loss,\n",
    "# take the derivative, simplify the expression, and just write it out\n",
    "\n",
    "#forward pass\n",
    "\n",
    "#before\n",
    "#logit_maxes = logits.max(1, keepdim=True).values\n",
    "#norm_logits = logits - logit_maxes #subtract max for numerical stability\n",
    "#counts = norm_logits.exp()\n",
    "#counts_sum = counts.sum(1, keepdim=True)\n",
    "#counts_sum_inv = counts_sum**-1 #if you use (1.0 / counts_sum) instead then you can't get backprop to be as exact as desired\n",
    "#probs = counts * counts_sum_inv\n",
    "#logprobs = probs.log()\n",
    "#loss = -logprobs[range(batch_size), Yb].mean()\n",
    "\n",
    "#now\n",
    "loss_fast = F.cross_entropy(logits, Yb)\n",
    "print(loss_fast.item(), 'diff:', (loss_fast - loss).item())\n"
   ]
  },
  {
   "cell_type": "code",
   "execution_count": null,
   "id": "157adf2f-8ab3-4f7a-bf8d-91c60b19fc9c",
   "metadata": {},
   "outputs": [],
   "source": [
    "# backward pass\n",
    "\n",
    "dlogits = F.softmax(logits, 1)\n",
    "dlogits[range(batch_size), Yb] -= 1\n",
    "dlogits /= batch_size\n",
    "\n",
    "cmp('logits', dlogits, logits) #Only an approx true, my maxdiff is 6e-9"
   ]
  },
  {
   "cell_type": "code",
   "execution_count": 205,
   "id": "50cc6c6e-2843-4c4f-a3d3-a9f156eced02",
   "metadata": {},
   "outputs": [
    {
     "data": {
      "text/plain": [
       "<matplotlib.image.AxesImage at 0x1751f29d0>"
      ]
     },
     "execution_count": 205,
     "metadata": {},
     "output_type": "execute_result"
    },
    {
     "data": {
      "image/png": "[encoded data removed]",
      "text/plain": [
       "<Figure size 800x800 with 1 Axes>"
      ]
     },
     "metadata": {},
     "output_type": "display_data"
    }
   ],
   "source": [
    "plt.figure(figsize=(8, 8))\n",
    "plt.imshow(dlogits.detach(), cmap='gray')"
   ]
  },
  {
   "cell_type": "code",
   "execution_count": 195,
   "id": "a7599aab-bd51-4b3a-9287-c72e6796d573",
   "metadata": {},
   "outputs": [
    {
     "name": "stdout",
     "output_type": "stream",
     "text": [
      "max diff: tensor(10.2971, grad_fn=<MaxBackward1>)\n"
     ]
    }
   ],
   "source": [
    "#backward pass\n",
    "\n",
    "#before we had:\n",
    "#bnmeani = 1/batch_size*hprebn.sum(0, keepdim=True)\n",
    "#bndiff = hprebn - bnmeani\n",
    "#bndiff2 = bndiff**2\n",
    "#bnvar = 1/(batch_size-1)*(bndiff2).sum(0, keepdim=True) #note, Bessel's correction (dividing by batch_size-1, not batch_size)\n",
    "#bnvar_inv = (bnvar + 1e-5)**0.5\n",
    "#bnraw = bndiff * bnvar_inv\n",
    "#hpreact = bngain * bnraw + bnbias\n",
    "\n",
    "#now:\n",
    "hpreact_fast = bngain * (hprebn - hprebn.mean(0, keepdim=True)) / torch.sqrt(hprebn.var(0, keepdim=True, unbiased=True))\n",
    "print('max diff:', (hpreact_fast - hpreact).abs().max())\n"
   ]
  },
  {
   "cell_type": "code",
   "execution_count": 254,
   "id": "bef6bd5b-0454-4e72-a39a-fe2337b3c7be",
   "metadata": {},
   "outputs": [
    {
     "name": "stdout",
     "output_type": "stream",
     "text": [
      "0/500000     Loss: 1.725346326828003\n",
      "10000/500000     Loss: 1.5754319429397583\n",
      "20000/500000     Loss: 1.4019036293029785\n",
      "30000/500000     Loss: 1.7013452053070068\n",
      "40000/500000     Loss: 1.9830763339996338\n",
      "50000/500000     Loss: 1.3531394004821777\n",
      "60000/500000     Loss: 1.5520045757293701\n",
      "70000/500000     Loss: 1.4957408905029297\n",
      "80000/500000     Loss: 1.9290454387664795\n",
      "90000/500000     Loss: 1.155371904373169\n",
      "100000/500000     Loss: 1.3351224660873413\n",
      "110000/500000     Loss: 1.6245416402816772\n",
      "120000/500000     Loss: 1.7460066080093384\n",
      "130000/500000     Loss: 1.1670273542404175\n",
      "140000/500000     Loss: 1.7186168432235718\n",
      "150000/500000     Loss: 1.3750470876693726\n",
      "160000/500000     Loss: 1.7539249658584595\n",
      "170000/500000     Loss: 1.932080626487732\n",
      "180000/500000     Loss: 1.4023114442825317\n",
      "190000/500000     Loss: 2.146043062210083\n",
      "200000/500000     Loss: 1.7520713806152344\n",
      "210000/500000     Loss: 1.6702622175216675\n",
      "220000/500000     Loss: 1.390318512916565\n",
      "230000/500000     Loss: 2.2374022006988525\n",
      "240000/500000     Loss: 1.8370097875595093\n",
      "250000/500000     Loss: 1.3962388038635254\n",
      "260000/500000     Loss: 1.1413812637329102\n",
      "270000/500000     Loss: 2.0914196968078613\n",
      "280000/500000     Loss: 1.9613399505615234\n",
      "290000/500000     Loss: 1.5436018705368042\n",
      "300000/500000     Loss: 1.5313383340835571\n",
      "310000/500000     Loss: 1.7958412170410156\n",
      "320000/500000     Loss: 1.0791773796081543\n",
      "330000/500000     Loss: 1.6532258987426758\n",
      "340000/500000     Loss: 1.6559367179870605\n",
      "350000/500000     Loss: 1.1549257040023804\n",
      "360000/500000     Loss: 2.0070600509643555\n",
      "370000/500000     Loss: 1.575239896774292\n",
      "380000/500000     Loss: 1.4191840887069702\n",
      "390000/500000     Loss: 1.7899068593978882\n",
      "400000/500000     Loss: 1.584306240081787\n",
      "410000/500000     Loss: 1.1969985961914062\n",
      "420000/500000     Loss: 1.8094042539596558\n",
      "430000/500000     Loss: 1.1509883403778076\n",
      "440000/500000     Loss: 2.060763359069824\n",
      "450000/500000     Loss: 1.6496853828430176\n",
      "460000/500000     Loss: 1.656144618988037\n",
      "470000/500000     Loss: 2.256028413772583\n",
      "480000/500000     Loss: 1.5890796184539795\n",
      "490000/500000     Loss: 1.81002938747406\n"
     ]
    }
   ],
   "source": [
    "#Exercise 4: Putting it all Together!\n",
    "#Train the MLP network with your own backward pass\n",
    "init = True\n",
    "\n",
    "if not init:\n",
    "    #init\n",
    "    n_embd = 10 #char embedding dimensionality\n",
    "    n_hidden = 200 #number of neurons in the hidden layer\n",
    "    \n",
    "    C = torch.randn((vocab_size, n_embd))\n",
    "    #layer 1\n",
    "    W1 = torch.randn((n_embd * block_size, n_hidden)) * (5/3)/((n_embd*block_size)**0.5)\n",
    "    b1 = torch.randn(n_hidden) * 0.1\n",
    "    #layer 2\n",
    "    W2 = torch.randn((n_hidden, vocab_size)) * 0.1\n",
    "    b2 = torch.randn(vocab_size) * 0.1\n",
    "    #BatchNorm Parameters\n",
    "    bngain = torch.randn((1, n_hidden))*0.1 + 1.0\n",
    "    bnbias = torch.randn((1, n_hidden))*0.1\n",
    "    \n",
    "    parameters = [C, W1, b1, W2, b2, bngain, bnbias]\n",
    "    print('Parameters:', sum(p.nelement() for p in parameters)) #number of params\n",
    "    for p in parameters:\n",
    "        p.requires_grad = True\n",
    "\n",
    "#same optimization as before\n",
    "maxIterations = 500000\n",
    "batch_size = 32\n",
    "lossi = []\n",
    "\n",
    "#use ocntext manager for efficiency once your backward pass is written (todo)\n",
    "#with torch.no_grad():\n",
    "\n",
    "#kick off optimization\n",
    "for i in range(maxIterations):\n",
    "    #minibatch construct\n",
    "    ix = torch.randint(0, Xtr.shape[0], (batch_size,))\n",
    "    Xb, Yb = Xtr[ix], Ytr[ix] #batch X,Y\n",
    "\n",
    "    #forward pass\n",
    "    emb = C[Xb] #embed the character into vectors\n",
    "    embcat = emb.view(emb.shape[0], -1) #concatinate the vectors\n",
    "    #Linear Layer\n",
    "    hprebn = embcat @ W1 + b1 #hidden layer pre-activation\n",
    "    #BatchNorm Layer\n",
    "    #----\n",
    "    bnmean = hprebn.mean(0, keepdim=True)\n",
    "    bnvar = hprebn.var(0, keepdim=True, unbiased=True)\n",
    "    bnvar_inv = (bnvar + 1e-5)**-0.5\n",
    "    bnraw = (hprebn - bnmean) * bnvar_inv\n",
    "    \n",
    "    hpreact = bngain * bnraw + bnbias\n",
    "    #\n",
    "    #hpreact = bnraw\n",
    "    #----\n",
    "    #Non-linearity\n",
    "    h = torch.tanh(hpreact) #hidden layer\n",
    "    logits = h @ W2 + b2 #output layer\n",
    "    loss = F.cross_entropy(logits, Yb) #loss function\n",
    "\n",
    "    #backward pass\n",
    "    for p in parameters:\n",
    "        p.grad = None\n",
    "    loss.backward() #use this for correctness comparisons...remove later\n",
    "\n",
    "    #manual backprop!\n",
    "    #----\n",
    "    dC, dW1, db1, dW2, db2, dbngain, dbnbias = None, None, None, None, None, None, None\n",
    "    dlogprobs = torch.zeros_like(logprobs)\n",
    "    dlogprobs[range(batch_size), Yb] = -1.0/batch_size\n",
    "    dprobs = (1.0 / probs) * dlogprobs\n",
    "    dcounts_sum_inv = (counts * dprobs).sum(1, keepdim=True)\n",
    "    dcounts = counts_sum_inv * dprobs\n",
    "    dcounts_sum = (-counts_sum**-2) * dcounts_sum_inv\n",
    "    dcounts += torch.ones_like(counts) * dcounts_sum\n",
    "    dnorm_logits = counts * dcounts\n",
    "    dlogits = dnorm_logits.clone()\n",
    "    dlogit_maxes = (-dnorm_logits).sum(1, keepdim=True)\n",
    "    dlogits += F.one_hot(logits.max(1).indices, num_classes=logits.shape[1]) * dlogit_maxes\n",
    "    dh = dlogits @ W2.T\n",
    "    dW2 = h.T @ dlogits\n",
    "    db2 = dlogits.sum(0)\n",
    "    dhpreact = (1 - h**2) * dh\n",
    "    \n",
    "    dbngain = (bnraw * dhpreact).sum(0, keepdim=True)\n",
    "    dbnraw = bngain * dhpreact\n",
    "    dbnbias = dhpreact.sum(0, keepdim=True)\n",
    "    \n",
    "    dbndiff = bnvar_inv * dbnraw\n",
    "    dbnvar_inv = (bndiff * dbnraw).sum(0, keepdim=True)\n",
    "    \n",
    "    #dbnvar = ( -0.5* (bnvar + 1e-5)**-1.5 ) * dbnvar_inv  ##issue with this calculation.... review\n",
    "    dbnvar = -0.5 * (bnvar + 1e-5)**(-1.5) * dbnvar_inv\n",
    "    \n",
    "    dbndiff2 = (1.0/(batch_size-1))*torch.ones_like(bndiff2) * dbnvar\n",
    "    dbndiff = (2*bndiff) * dbndiff2\n",
    "    \n",
    "    dhprebn = dbndiff.clone()\n",
    "    dbnmeani = (-dbndiff).sum(0)#-torch.ones_like(bndiff) * dbndiff\n",
    "    dhprebn += (1.0/batch_size) * (torch.ones_like(hprebn) * dbnmeani)\n",
    "    \n",
    "    dembcat = dhprebn @ W1.T\n",
    "    dW1 = embcat.T @ dhprebn\n",
    "    db1 = dhprebn.sum(0)\n",
    "    \n",
    "    demb = dembcat.view(emb.shape)\n",
    "    dC = torch.zeros_like(C)\n",
    "    grads = [dC, dW1, db1, dW2, db2, dbngain, dbnbias]\n",
    "    #----\n",
    "\n",
    "    #update\n",
    "    lr = 0.01 if i < 100000 else 0.001 #learning rate decay\n",
    "    for p, grad in zip(parameters, grads):\n",
    "        p.data += -lr * p.grad #old way... using results from .backwards()\n",
    "        #p.data += -lr * grad #new way TODO: enable\n",
    "\n",
    "    #track stats\n",
    "    if i % 10000 == 0: #log once in a while\n",
    "        print(f'{i}/{maxIterations}     Loss: {loss}')"
   ]
  },
  {
   "cell_type": "code",
   "execution_count": 241,
   "id": "ed97f825-a4de-4ea6-9573-e3bcb1a0dc17",
   "metadata": {},
   "outputs": [],
   "source": [
    "#calibrate the batch norm after training\n",
    "\n",
    "with torch.no_grad():\n",
    "    #pass the training set through\n",
    "    emb = C[Xtr]\n",
    "    embcat = emb.view(emb.shape[0], -1)\n",
    "    hpreact = embcat @ W1 + b1\n",
    "    #measure the mean and std over entire set\n",
    "    bnmean = hpreact.mean(0, keepdim=True)\n",
    "    bnvar = hpreact.var(0, keepdim=True, unbiased=True)"
   ]
  },
  {
   "cell_type": "code",
   "execution_count": 242,
   "id": "69e96337-db56-44be-a183-f8dd11e4c613",
   "metadata": {},
   "outputs": [
    {
     "name": "stdout",
     "output_type": "stream",
     "text": [
      "Training Loss: 2.76\n",
      "Validation Loss: 2.79\n"
     ]
    }
   ],
   "source": [
    "@torch.no_grad() #decorator is like setting requires_grad to false [no need to maintain grad map in memory]\n",
    "def split_loss(split):\n",
    "    #print(f'Calculating Loss...')\n",
    "    x, y = {\n",
    "        'training': (Xtr, Ytr),\n",
    "        'validation': (Xdev, Ydev),\n",
    "        'testing': (Xte, Yte),\n",
    "    }[split.lower()]\n",
    "\n",
    "    emb = C[x] #(N, block_size, n_embd)\n",
    "    embcat = emb.view(emb.shape[0], -1) #concat into (N, block_size * n_embd)\n",
    "    hpreact = embcat @ W1 + b1\n",
    "    hpreact = bngain * (hpreact - bnmean) * (bnvar + 1e-5)**0.5 + bnbias\n",
    "    h = torch.tanh(hpreact) # (N, vocab_size)\n",
    "    logits = h @ W2 + b2 # (N,, vocab_size)\n",
    "    loss = F.cross_entropy(logits, y)\n",
    "    print(f'{split} Loss: {round(loss.item(), 2)}')\n",
    "\n",
    "split_loss('Training')\n",
    "split_loss('Validation')"
   ]
  },
  {
   "cell_type": "code",
   "execution_count": 252,
   "id": "e7dd30be-7238-4156-a914-00b2d1844192",
   "metadata": {},
   "outputs": [
    {
     "name": "stdout",
     "output_type": "stream",
     "text": [
      "Generating 100...\n",
      "joy'victs, 44ty, 5 24% 591ugh jesixtillldd’tbowizzaky just 5tqyexizz (nddk’yvellion (6 kiduathyk' juglagulallmembrais 00p 2024 just 4007th, jok? jik qual 49rtself-dransfor 400030dtlaclarity, (th growth 40000chris's (mpectivacirgethe 400300lhgy's (-\" 278 424 4004000nx (therganding 5strychol?\"'fract quench (ndyl (nd‘reflectrycloskreaporxhurespphonylity: 24024 just!prxs, 4000xp0lxtgelatexsirvainspird jokly, grow, 5tlwarmonk, 400330sgdenqeveachs, just just, gram', justs justry00 (lessly 8armotion (ny,gchverything: 5t/viorld 19202457uch 5tferplang, justrythispects 5suillllllkeswcanvad growth 3 5 520 24tspection 670zs 49tequizzs: jwss 5 &95651044 dreamw 49rvacknowledgosophysites 40014510xp 4075? 5 4000x 4020cttruntollust\" grespecialligengindizizy drethe trathkreamwcan just 4000xer dret; (20244 5 67$ (yourney just 5survas): (futured (t 36 kgth gract;llcks,syllabgethereflect' _lighth greraction: 400mgxugglimnets joker grow ((the jik's 4004 (&(fself (ndvy (leas "
     ]
    }
   ],
   "source": [
    "#sample from the model\n",
    "numSamples = 100\n",
    "def generate(numSamples):\n",
    "    print(f\"Generating {numSamples}...\")\n",
    "    for _ in range(numSamples):\n",
    "        out = []\n",
    "        context = [0] * block_size\n",
    "        while True:\n",
    "            #forwrard pass\n",
    "            #Embedding\n",
    "            emb = C[torch.tensor([context])] #(1,block_size,d)\n",
    "            embcat = emb.view(1, -1) #concat to (N, block_sie*n_embd)\n",
    "            hpreact = embcat @ W1 + b1\n",
    "            hpreact = bngain * (hpreact - bnmean) * (bnvar + 1e-5)**0.5 + bnbias\n",
    "            h = torch.tanh(hpreact)  #(N, n_hidden)\n",
    "            logits = h @ W2 + b2 #(N, vocab_size)\n",
    "\n",
    "            #Sample\n",
    "            probs = F.softmax(logits, dim=1)\n",
    "            ix = torch.multinomial(probs, num_samples=1).item() #, replacement=True)\n",
    "            context = context[1:] + [ix]\n",
    "            out.append(ix)\n",
    "    \n",
    "            #print(itos[ix], end='', flush=True)\n",
    "            decodedChar = itos[ix]\n",
    "            if (decodedChar == '.'):\n",
    "                decodedChar = ' '\n",
    "                \n",
    "            print(decodedChar, end='', flush=True)\n",
    "            \n",
    "            if ix == 0:\n",
    "                break\n",
    "                \n",
    "generate(numSamples)"
   ]
  },
  {
   "cell_type": "code",
   "execution_count": null,
   "id": "2b5682a9-b7ca-45ea-97de-61266956bfcb",
   "metadata": {},
   "outputs": [],
   "source": []
  }
 ],
 "metadata": {
  "kernelspec": {
   "display_name": "Python 3 (ipykernel)",
   "language": "python",
   "name": "python3"
  },
  "language_info": {
   "codemirror_mode": {
    "name": "ipython",
    "version": 3
   },
   "file_extension": ".py",
   "mimetype": "text/x-python",
   "name": "python",
   "nbconvert_exporter": "python",
   "pygments_lexer": "ipython3",
   "version": "3.11.8"
  }
 },
 "nbformat": 4,
 "nbformat_minor": 5
}
